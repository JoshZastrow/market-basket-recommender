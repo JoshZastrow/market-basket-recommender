{
 "cells": [
  {
   "cell_type": "markdown",
   "metadata": {},
   "source": [
    "# Machine Learning Case Study: Instacart Market Basket Suggestions"
   ]
  },
  {
   "cell_type": "markdown",
   "metadata": {},
   "source": [
    "## Overview\n",
    "For this project we are going to explore recommender system design and implementation for Instacart. Here is a little blurb from Instacart's Kaggle competition on the service:\n",
    "\n",
    "> _Whether you shop from meticulously planned grocery lists or let whimsy guide your grazing, our unique food rituals define who we are. Instacart, a grocery ordering and delivery app, aims to make it easy to fill your refrigerator and pantry with your personal favorites and staples when you need them. After selecting products through the Instacart app, personal shoppers review your order and do the in-store shopping and delivery for you.\"_\n",
    "\n"
   ]
  },
  {
   "cell_type": "markdown",
   "metadata": {},
   "source": [
    "## Framing the problem: Knowing purchases before it happens\n",
    "\n",
    "Instacart wants to provide the best possible customer experience. Customer experience is improved when we remove friction and time spent searching. We can remove friction and wasted time by prioritizing grocery items that are relevant to our customer. \n",
    "\n",
    "So the problem is that customers are being shown foodstuff they do not want ahead of items they ultimately do want. After a user makes a purchase (or adds an item to a basket), we do know for certain what they wanted. However up until that point, we are uncertain. We can use prediction to reduce this uncertainty at scale, personalized for each customer. Reducing uncertainty will create a delightful experience because better information to our customer creates more effective and efficient shopping decisions.\n",
    "\n",
    "We can provide recommendations in many steps of the user journey, but we will talk about some of the areas related to this challenge: \n",
    "\n",
    "- predicting what items a user will buy again\n",
    "- predicting what item a user will add to their cart next (during a shopping session)\n",
    "- predicting what items a user will try for the first time\n"
   ]
  },
  {
   "cell_type": "markdown",
   "metadata": {},
   "source": [
    "## Company Goals\n",
    "As Instacarts overview puts it, some customers like to be fast shoppers with pre-planned lists. Others prefer to \"let whimsy guide the grazing\". These are two different needs and require two different strategies and metrics to quantify the impact of our solutions. \n",
    "\n",
    "At a company level, we will want to increase engagement (# sessions over time) and spending per session. If both number of sessions go up and spending per session goes up, then revenue increases. \n",
    "\n",
    "## Recommender Goals\n",
    "There is a lot more to the user journey than product recommenders, but we need a proxy to our company goal that our recommender system affects. We want to be able to measure improvement in our system and also be sure we are improving the company goals.\n",
    "\n",
    "We can say that if we improve the customer decision making in what to buy, then they use the service more--increasing engagement. Improved suggestions leads to more purchases due to discovery and value creation from our service. This value creation will be captured through larger purchases on instacart. \n",
    "\n",
    "Since we have purchase data, we will quantify our goals through purchased items per order. From a list of N items shown, we will evaluate the recommender based on how many items from the list were purchased.\n",
    "\n",
    "### Evaluating Decision Support By F1 Score\n",
    "\n",
    "A customer decision can be framed as deciding which items to select. \n"
   ]
  },
  {
   "cell_type": "markdown",
   "metadata": {},
   "source": [
    "## Data Sources\n",
    "\n",
    "### Train\n",
    "\n",
    "### Serve"
   ]
  },
  {
   "cell_type": "markdown",
   "metadata": {},
   "source": [
    "## Modeling Approach\n",
    "\n",
    "### Feature Engineering\n",
    "\n",
    "### Model Architecture\n",
    "\n",
    "### Optimization Function\n",
    "\n",
    "# Evaluation Results"
   ]
  },
  {
   "cell_type": "markdown",
   "metadata": {},
   "source": [
    "# Deployment\n",
    "\n",
    "### Experimentation\n",
    "\n",
    "### Constraints\n",
    "\n",
    "### System Design\n",
    "\n",
    "### Scaling"
   ]
  }
 ],
 "metadata": {
  "kernelspec": {
   "display_name": "Python 3",
   "language": "python",
   "name": "python3"
  },
  "language_info": {
   "codemirror_mode": {
    "name": "ipython",
    "version": 3
   },
   "file_extension": ".py",
   "mimetype": "text/x-python",
   "name": "python",
   "nbconvert_exporter": "python",
   "pygments_lexer": "ipython3",
   "version": "3.8.2"
  }
 },
 "nbformat": 4,
 "nbformat_minor": 4
}
