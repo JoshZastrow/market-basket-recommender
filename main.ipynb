{
 "cells": [
  {
   "cell_type": "markdown",
   "metadata": {},
   "source": [
    "# Machine Learning Case Study: Instacart Market Basket Suggestions"
   ]
  },
  {
   "cell_type": "markdown",
   "metadata": {},
   "source": [
    "## Overview\n",
    "For this project we are going to explore recommender system design and implementation for Instacart. Here is a little blurb from Instacart's Kaggle competition on the service:\n",
    "\n",
    "> _Whether you shop from meticulously planned grocery lists or let whimsy guide your grazing, our unique food rituals define who we are. Instacart, a grocery ordering and delivery app, aims to make it easy to fill your refrigerator and pantry with your personal favorites and staples when you need them. After selecting products through the Instacart app, personal shoppers review your order and do the in-store shopping and delivery for you.\"_\n",
    "\n"
   ]
  },
  {
   "cell_type": "markdown",
   "metadata": {},
   "source": [
    "## Knowing the next purchase before it happens\n",
    "\n",
    "Instacart wants to provide the best possible customer experience and we can improve this experience when we remove friction and time spent searching for groceries. While there are many underlying reasons for grocery shopping, we will focus on the needs for re-stocking. We will do this by predicting which items a user will re-order, then provide these items as suggestions. \n",
    "\n",
    "#### Retrieving products to buy again per order.\n",
    "So the problem is focused on the intent to shop for re-stocking your pantry / fridge. We would like to provide a way for users to easily re-order the things they want to re-order, and we can improve this feature by estimating how likely the user will want to re-order a given product.\n",
    "\n",
    "***Given user characteristics, product characteristics, and order history, we will predict the probability that any previous product will be bought again. We can rank these probabilities and show the top N items when the customer visits Instacart.***\n"
   ]
  },
  {
   "cell_type": "markdown",
   "metadata": {},
   "source": [
    "## Company Goals\n",
    "As Instacarts overview puts it, we want to improve the experience for two types of customers. Some customers like to be fast with pre-planned lists. Others prefer to \"let whimsy guide the grazing\". These customers shop for different reasons, such as:\n",
    "- for re-filling their kitchen\n",
    "    - with items they ran out of\n",
    "    - with new items \n",
    "        - they need\n",
    "        - they haven't bought before\n",
    "- for a specific meal or occasion\n",
    "    - with items they have not purchased recently\n",
    "    - with items they have purchased recently\n",
    "    - with items they never have purchased\n",
    "\n",
    "For whatever reason, we would like the user to choose Instacart. While our model will be focused on the need for re-filling the kitchen with items purchased before, at a company level, we are aiming for market penetration, therefore growth is a top priority. We can measure growth through engagement and \"virality\". \n",
    "\n",
    "***We will track ngagement by counting the number sessions over time and average time between sessions (orders). We will also track virality through NPS scores and app shares. At a high level, our model aims to indirectly improve these metrics.***"
   ]
  },
  {
   "cell_type": "markdown",
   "metadata": {},
   "source": [
    "## Team Goals\n",
    "\n",
    "There are many steps in the customer journey that plays a role in the company goals. For our team, we need to measure our customers grocery search in a way that acts as a proxy to our larger company goals.\n",
    "\n",
    "We would like improved suggestions to lead to more purchases over shorter shopping sessions. This can be described as \"actions per minute\", do they purchase more items over the same shopping duration, or do they purchase the same items (the ones they need) in a shorter shopping duration. If we can suggest items that a user wants to re-order, they spend less time searching. \n",
    "\n",
    "***To measure our team's performance, we will track the purchase count to shopping time ratio across our user base.***\n"
   ]
  },
  {
   "cell_type": "markdown",
   "metadata": {},
   "source": [
    "\n",
    "## Recommender Goals\n",
    "We will strive to increase purchases relative to shopping session length by improving our model predictions. We know we have done a good job suggesting items when the items we suggested are a part of the final order.\n",
    "\n",
    "Since we have purchase orders, our task is to predict items that re-appear in the purchase orders. The more aligned our suggestions are with the actual decision, the better our model. We will measure our prediction based on the number of predicted items that show up in the shopping basket. \n",
    "\n",
    "***To measure our recommender performance, we will track the confidence of an item suggestion (precision) and the coverage of our suggestions across actual purchases (recall) synthesized into a single metric called F1 Score.***\n"
   ]
  },
  {
   "cell_type": "markdown",
   "metadata": {},
   "source": [
    "## Data\n",
    "There are three main data models, the users, the orders and the products. In addition, there are dimensional tables related to the department and aisles. Instacart provides detailed descriptions of the datasets [here](https://www.kaggle.com/c/instacart-market-basket-analysis/data).\n"
   ]
  },
  {
   "cell_type": "markdown",
   "metadata": {},
   "source": [
    "## Modeling Approach\n",
    "\n",
    "We will frame this as a classification problem. For each user, order, and product ordered in prior history, we will predict the probability of re-order. We will threshold this probability and filter items by this threshold in order to return the final suggestions."
   ]
  },
  {
   "cell_type": "markdown",
   "metadata": {},
   "source": [
    "### Candidate Features:\n",
    "### User feature\n",
    "    How often the user reordered items\n",
    "    Time between orders\n",
    "    Time of day the user visits\n",
    "    Whether the user ordered organic, gluten-free, or Asian items in the past\n",
    "    Features based on order sizes\n",
    "    How many of the user’s orders contained no previously purchased items\n",
    "#### Item feature\n",
    "    How often the item is purchased\n",
    "    Position in the cart\n",
    "    How many users buy it as \"one shot\" item\n",
    "    Stats on the number of items that co-occur with this item\n",
    "    Stats on the order streak\n",
    "    Probability of being reordered within N orders\n",
    "    Distribution of the day of week it is ordered\n",
    "    Probability it is reordered after the first order\n",
    "    Statistics around the time between orders\n",
    "#### User x Item feature\n",
    "    Number of orders in which the user purchases the item\n",
    "    Days since the user last purchased the item\n",
    "    Streak (number of orders in a row the user has purchased the item)\n",
    "    Position in the cart\n",
    "    Whether the user already ordered the item today\n",
    "    Co-occurrence statistics\n",
    "    Replacement items\n",
    "    datetime feature\n",
    "    Counts by day of week\n",
    "    Counts by hour"
   ]
  },
  {
   "cell_type": "markdown",
   "metadata": {},
   "source": [
    "\n",
    "### Architecture"
   ]
  },
  {
   "cell_type": "markdown",
   "metadata": {},
   "source": [
    "### Training"
   ]
  },
  {
   "cell_type": "markdown",
   "metadata": {},
   "source": [
    "\n",
    "## Results"
   ]
  },
  {
   "cell_type": "markdown",
   "metadata": {},
   "source": [
    "## Deployment\n",
    "\n",
    "### Experimentation\n",
    "\n",
    "### Constraints\n",
    "\n",
    "### System Design\n",
    "\n",
    "### Scaling"
   ]
  },
  {
   "cell_type": "code",
   "execution_count": null,
   "metadata": {},
   "outputs": [],
   "source": []
  }
 ],
 "metadata": {
  "kernelspec": {
   "display_name": "Python 3",
   "language": "python",
   "name": "python3"
  },
  "language_info": {
   "codemirror_mode": {
    "name": "ipython",
    "version": 3
   },
   "file_extension": ".py",
   "mimetype": "text/x-python",
   "name": "python",
   "nbconvert_exporter": "python",
   "pygments_lexer": "ipython3",
   "version": "3.8.2"
  },
  "toc-autonumbering": true,
  "toc-showmarkdowntxt": false
 },
 "nbformat": 4,
 "nbformat_minor": 4
}
